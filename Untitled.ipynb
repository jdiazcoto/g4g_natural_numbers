{
 "cells": [
  {
   "cell_type": "code",
   "execution_count": 15,
   "id": "32228a0a-e975-437d-9957-292a2422a24f",
   "metadata": {},
   "outputs": [],
   "source": [
    "def sum_of_n_natural_numbers_one_way(n):\n",
    "    sum = 0\n",
    "    \n",
    "    for i in range(n):\n",
    "        i=i+1\n",
    "        sum = sum + i\n",
    "    return sum"
   ]
  },
  {
   "cell_type": "code",
   "execution_count": 18,
   "id": "720a8f82-7f6c-4bac-9b1f-ed9649b50f77",
   "metadata": {},
   "outputs": [],
   "source": [
    "def sum_of_n_natural_numbers_another_way(n):\n",
    "    return n*(n+1)/2"
   ]
  },
  {
   "cell_type": "code",
   "execution_count": 19,
   "id": "595cf6ff-a050-4f9f-972d-363764a964db",
   "metadata": {},
   "outputs": [
    {
     "data": {
      "text/plain": [
       "325.0"
      ]
     },
     "execution_count": 19,
     "metadata": {},
     "output_type": "execute_result"
    }
   ],
   "source": [
    "sum_of_n_natural_numbers_another_way(25)"
   ]
  },
  {
   "cell_type": "code",
   "execution_count": null,
   "id": "30701cf2-392a-4940-9ee5-4e2317172e63",
   "metadata": {},
   "outputs": [],
   "source": []
  }
 ],
 "metadata": {
  "kernelspec": {
   "display_name": "Python 3",
   "language": "python",
   "name": "python3"
  },
  "language_info": {
   "codemirror_mode": {
    "name": "ipython",
    "version": 3
   },
   "file_extension": ".py",
   "mimetype": "text/x-python",
   "name": "python",
   "nbconvert_exporter": "python",
   "pygments_lexer": "ipython3",
   "version": "3.8.5"
  }
 },
 "nbformat": 4,
 "nbformat_minor": 5
}
